{
 "cells": [
  {
   "cell_type": "markdown",
   "id": "a7bd0ac3-194c-4a9c-b5d3-45d297ba5aa5",
   "metadata": {},
   "source": [
    "# Design workflow and devices in `dphox`\n",
    "\n",
    "In this tutorial, we discuss the design workflow for `dphox`, and specifically what must be done to efficiently lay out devices and tapeouts using the module using the `Device` class, which is analogous to a `Cell` in a GDS file."
   ]
  },
  {
   "cell_type": "markdown",
   "id": "991bcf66-fea5-478b-a875-0b97abf4247e",
   "metadata": {},
   "source": [
    "### Import"
   ]
  },
  {
   "cell_type": "code",
   "execution_count": null,
   "id": "54bad253-29c0-4d88-8dca-13738c739662",
   "metadata": {},
   "outputs": [],
   "source": [
    "import dphox as dp\n",
    "import numpy as np\n",
    "import holoviews as hv\n",
    "from trimesh.transformations import rotation_matrix, scale_matrix\n",
    "hv.extension('bokeh')\n",
    "import warnings\n",
    "warnings.filterwarnings('ignore')  # ignore shapely warnings"
   ]
  },
  {
   "cell_type": "markdown",
   "id": "79a55462-38d4-4201-96c3-8d6848b1365e",
   "metadata": {
    "jp-MarkdownHeadingCollapsed": true,
    "tags": []
   },
   "source": [
    "## `Device`\n",
    "\n",
    "A `Device` in `dphox` can be defined in terms of a list of `(Pattern, layer_name)` tuples and/or `Device`'s (mixtures of the two are OK). The layer names should be specifically designed to map to different foundries, and this is the inspiration behind `dphox`'s `CommonLayer` enumeration."
   ]
  },
  {
   "cell_type": "markdown",
   "id": "33e37da4-3bac-432b-bcc0-8017d5767b98",
   "metadata": {
    "tags": []
   },
   "source": [
    "### `CommonLayer`\n",
    "\n",
    "#### **The AIM active stack (provided for free by AIM Photonics):**\n",
    "\n",
    "![aim.png](https://images.squarespace-cdn.com/content/v1/60f9aafd6d3127604a69d48a/1635983361270-EUFXL1A4UZF6UI5Y04A2/all_cartoons-03.png?format=1500w)\n",
    "\n",
    "Though this is provided also in the documentation and below we specifically enumerate the `CommonLayer` options for reference in this tutorial, which are just an enumeration of standard layer names, no more, no less.\n",
    "- `RIDGE_SI`: Ridge silicon waveguide layer.\n",
    "- `RIB_SI`: Rib silicon waveguide layer.\n",
    "- `PDOPED_SI`: Lightly P-doped silicon (implants into the crystalline silicon layer).\n",
    "- `NDOPED_SI`: Lightly N-doped silicon (implants into the crystalline silicon layer).\n",
    "- `PPDOPED_SI`: Medium P-doped silicon (implants into the crystalline silicon layer).\n",
    "- `NNDOPED_SI`: Medium N-doped silicon (implants into the crystalline silicon layer).\n",
    "- `PPPDOPED_SI`: Highly P-doped silicon (implants into the crystalline silicon layer).\n",
    "- `NNNDOPED_SI`: Highly N-doped silicon (implants into the crystalline silicon layer).\n",
    "- `RIDGE_SIN`: Silicon nitride ridge layer (usually above silicon).\n",
    "- `ALUMINA`: Alumina layer (for etch stop and waveguides, usually done in post-processing).\n",
    "- `POLY_SI_1`: Polysilicon layer 1 (typically used in MEMS process).\n",
    "- `POLY_SI_2`: Polysilicon layer 2 (typically used in MEMS process).\n",
    "- `POLY_SI_3`: Polysilicon layer 3 (typically used in MEMS process).\n",
    "- `VIA_SI_1`: Via metal connection from `si` to `metal_1`.\n",
    "- `METAL_1`: Metal layer corresponding to an intermediate routing layer (1).\n",
    "- `VIA_1_2`: Via metal connection from `metal_1` to `metal_2`.\n",
    "- `METAL_2`: Metal layer corresponding to an intermediate routing layer (2).\n",
    "- `VIA_2_PAD`: Via metal connection from `metal_2` to `metal_pad`.\n",
    "- `METAL_PAD`: Metal layer corresponding to pads that can be wirebonded or solder-bump bonded from the chip surface.\n",
    "- `HEATER`: Heater layer (usually titanium nitride).\n",
    "- `VIA_HEATER_2`: Via metal connection from `heater` to `metal_2`.\n",
    "- `CLAD`: Cladding layer (usually oxide).\n",
    "- `CLEAROUT`: Clearout layer for a MEMS release process.\n",
    "- `PHOTONIC_KEEPOUT`: A layer specifying where photonics cannot be routed.\n",
    "- `METAL_KEEPOUT`: A layer specifying where metal cannot be routed.\n",
    "- `BBOX`: Layer for the bounding box of the design."
   ]
  },
  {
   "cell_type": "code",
   "execution_count": null,
   "id": "23647b94-3cda-47bb-b8ae-4ecaa508bf4e",
   "metadata": {},
   "outputs": [],
   "source": [
    "dp.CommonLayer.RIDGE_SI"
   ]
  },
  {
   "cell_type": "markdown",
   "id": "e3e75aa7-d176-47ff-b499-18b066b4a743",
   "metadata": {},
   "source": [
    "### `Foundry`\n",
    "\n",
    "A foundry process is defined using the `Foundry` class which maps every `layer_name` to a `gds_label` which is of the form `(layer, datatype)` (e.g. `CommonLayer.RIDGE_SI` in `FABLESS` has a `gds_label` of `(100, 0)`). Additionally, all default colors, materials, 3D operations, layer thicknesses etc. are determined by the `ProcessStep`'s in a `Foundry`. \n",
    "\n",
    "Foundries are generally secretive about their exact stack/gds labels/layer thicknesses. We therefore define a `FABLESS` foundry that has some typical dimensions for the various layers, referencing the idea that `dphox` is a fab-agnostic design tool. `FABLESS` can be accessed via `dp.FABLESS`, but we specifically enumerate it below.\n"
   ]
  },
  {
   "cell_type": "code",
   "execution_count": null,
   "id": "b35c9a6e-6972-4af0-8ce3-a396eb84f403",
   "metadata": {},
   "outputs": [],
   "source": [
    "FABLESS = dp.Foundry(\n",
    "    stack=[\n",
    "        # 1. First define the photonic stack\n",
    "        dp.ProcessStep(dp.ProcessOp.GROW, 0.2, dp.SILICON, dp.CommonLayer.RIDGE_SI, (100, 0), 2),\n",
    "        dp.ProcessStep(dp.ProcessOp.DOPE, 0.1, dp.P_SILICON, dp.CommonLayer.P_SI, (400, 0)),\n",
    "        dp.ProcessStep(dp.ProcessOp.DOPE, 0.1, dp.N_SILICON, dp.CommonLayer.N_SI, (401, 0)),\n",
    "        dp.ProcessStep(dp.ProcessOp.DOPE, 0.1, dp.PP_SILICON, dp.CommonLayer.PP_SI, (402, 0)),\n",
    "        dp.ProcessStep(dp.ProcessOp.DOPE, 0.1, dp.NN_SILICON, dp.CommonLayer.NN_SI, (403, 0)),\n",
    "        dp.ProcessStep(dp.ProcessOp.DOPE, 0.1, dp.PPP_SILICON, dp.CommonLayer.PPP_SI, (404, 0)),\n",
    "        dp.ProcessStep(dp.ProcessOp.DOPE, 0.1, dp.NNN_SILICON, dp.CommonLayer.NNN_SI, (405, 0)),\n",
    "        dp.ProcessStep(dp.ProcessOp.GROW, 0.1, dp.SILICON, dp.CommonLayer.RIB_SI, (101, 0), 2),\n",
    "        dp.ProcessStep(dp.ProcessOp.GROW, 0.2, dp.NITRIDE, dp.CommonLayer.RIDGE_SIN, (300, 0), 2.5),\n",
    "        dp.ProcessStep(dp.ProcessOp.GROW, 0.1, dp.ALUMINA, dp.CommonLayer.ALUMINA, (200, 0), 2.5),\n",
    "        # 2. Then define the metal connections (zranges).\n",
    "        dp.ProcessStep(dp.ProcessOp.GROW, 1, dp.COPPER, dp.CommonLayer.VIA_SI_1, (500, 0), 2.2),\n",
    "        dp.ProcessStep(dp.ProcessOp.GROW, 0.2, dp.COPPER, dp.CommonLayer.METAL_1, (501, 0)),\n",
    "        dp.ProcessStep(dp.ProcessOp.GROW, 0.5, dp.COPPER, dp.CommonLayer.VIA_1_2, (502, 0)),\n",
    "        dp.ProcessStep(dp.ProcessOp.GROW, 0.2, dp.COPPER, dp.CommonLayer.METAL_2, (503, 0)),\n",
    "        dp.ProcessStep(dp.ProcessOp.GROW, 0.5, dp.ALUMINUM, dp.CommonLayer.VIA_2_PAD, (504, 0)),\n",
    "        # Note: negative means grow downwards (below the ceiling of the device).\n",
    "        dp.ProcessStep(dp.ProcessOp.GROW, -0.3, dp.ALUMINUM, dp.CommonLayer.METAL_PAD, (600, 0), 5),\n",
    "        dp.ProcessStep(dp.ProcessOp.GROW, 0.2, dp.HEATER, dp.CommonLayer.HEATER, (700, 0), 3.2),\n",
    "        dp.ProcessStep(dp.ProcessOp.GROW, 0.5, dp.ALUMINUM, dp.CommonLayer.VIA_HEATER_2, (505, 0)),\n",
    "        # 3. Finally specify the clearout (needed for MEMS).\n",
    "        dp.ProcessStep(dp.ProcessOp.SAC_ETCH, 4, dp.ETCH, dp.CommonLayer.CLEAROUT, (800, 0)),\n",
    "        dp.ProcessStep(dp.ProcessOp.DUMMY, 4, dp.DUMMY, dp.CommonLayer.TRENCH, (41, 0)),\n",
    "        dp.ProcessStep(dp.ProcessOp.DUMMY, 4, dp.DUMMY, dp.CommonLayer.PHOTONIC_KEEPOUT, (42, 0)),\n",
    "        dp.ProcessStep(dp.ProcessOp.DUMMY, 4, dp.DUMMY, dp.CommonLayer.METAL_KEEPOUT, (43, 0)),\n",
    "        dp.ProcessStep(dp.ProcessOp.DUMMY, 4, dp.DUMMY, dp.CommonLayer.BBOX, (44, 0)),\n",
    "    ],\n",
    "    height=5\n",
    ")"
   ]
  },
  {
   "cell_type": "markdown",
   "id": "6321ffd2-d8dc-48ad-928e-5cb57a628c49",
   "metadata": {},
   "source": [
    "### `place`\n",
    "\n",
    "In a nutshell, the key point to realize is that most photonic integrated circuits contain *repeated* `Cell`s (e.g. in our the introductory tutorial that included the repeated `MZI` unit cells). Therefore, when designing layouts, it is most efficient to define references rather than recreating the same device or set of polygons over and over again.  \n",
    "\n",
    "Behind the scenes, the GDS references are just rotate/translate/scale transformations (called `GDSTransform` is `dphox`).\n",
    "\n",
    "Ultimately, this saves a ton of time / reduces overhead in the usual photonic designer workflow, and saves a lot of storage when saving a GDS file.\n",
    "\n",
    "In explaining the place function, we will specifically implement the `with_gratings` method in `dp.Interposer`, which places gratings at the outputs of a waveguide pitch interposer. We glossed over this in the introductory photonics tutorial but we will specifically cover it here."
   ]
  },
  {
   "cell_type": "code",
   "execution_count": null,
   "id": "49dbe9b0-9054-4d24-bb72-1896c903cc77",
   "metadata": {},
   "outputs": [],
   "source": [
    "grating = dp.route.FocusingGrating(\n",
    "    n_env=dp.AIR.n,\n",
    "    n_core=dp.SILICON.n,\n",
    "    min_period=40,\n",
    "    num_periods=30,\n",
    "    wavelength=1.55,\n",
    "    fiber_angle=82,\n",
    "    duty_cycle=0.5,\n",
    "    waveguide_w=2\n",
    ")\n",
    "interposer = dp.route.Interposer(\n",
    "    waveguide_w=2,\n",
    "    n=6,\n",
    "    init_pitch=50,\n",
    "    final_pitch=127,\n",
    "    self_coupling_extension=50\n",
    ").device().rotate(90) # to make it easier to see things"
   ]
  },
  {
   "cell_type": "code",
   "execution_count": null,
   "id": "e72318a1-e5be-4256-9d33-7c546cf98777",
   "metadata": {},
   "outputs": [],
   "source": [
    "grating.hvplot()"
   ]
  },
  {
   "cell_type": "code",
   "execution_count": null,
   "id": "b17c3889-b753-4890-a9a0-f0ba5cb0edeb",
   "metadata": {},
   "outputs": [],
   "source": [
    "interposer.hvplot()"
   ]
  },
  {
   "cell_type": "code",
   "execution_count": null,
   "id": "6182b2b6-8d51-4c36-b4b2-dcfdde9c1c86",
   "metadata": {},
   "outputs": [],
   "source": [
    "for i in range(6):\n",
    "    interposer.place(grating, interposer.port[f'b{i}'], grating.port['a0'])\n",
    "interposer.place(grating, interposer.port[f'l0'], grating.port['a0'])\n",
    "interposer.place(grating, interposer.port[f'l1'], grating.port['a0'])"
   ]
  },
  {
   "cell_type": "code",
   "execution_count": null,
   "id": "f7b1b5fa-4730-4908-8bb1-08a50cc460cb",
   "metadata": {},
   "outputs": [],
   "source": [
    "interposer.hvplot()"
   ]
  },
  {
   "cell_type": "markdown",
   "id": "4880de22-c1fe-471e-baf0-300bd0c1fc5f",
   "metadata": {},
   "source": [
    "### `clear`\n",
    "\n",
    "In some cases (e.g., working in a notebook) you may want to *remove* or *undo placing* a reference. So this is accomplished via `clear`."
   ]
  },
  {
   "cell_type": "code",
   "execution_count": null,
   "id": "575e6cb3-8d07-4e8e-bd0f-7b57f4438696",
   "metadata": {},
   "outputs": [],
   "source": [
    "interposer.clear(grating)\n",
    "interposer.hvplot()"
   ]
  },
  {
   "cell_type": "markdown",
   "id": "e7cd5bfa-110f-4186-8403-895624bd094c",
   "metadata": {},
   "source": [
    "## Example devices and visualizations"
   ]
  },
  {
   "cell_type": "markdown",
   "id": "cf9c74fd-5424-4868-b49e-6118293db474",
   "metadata": {
    "jp-MarkdownHeadingCollapsed": true,
    "tags": []
   },
   "source": [
    "### `Via`\n",
    "\n",
    "A via / metal multilayer stack."
   ]
  },
  {
   "cell_type": "code",
   "execution_count": null,
   "id": "8015c6ca-5d4e-4c13-acdd-fd4da74e8500",
   "metadata": {},
   "outputs": [],
   "source": [
    "via1 = dp.Via((2, 2), 0.2)\n",
    "via2 = dp.Via((2, 2), 0.2, pitch=4, shape=(3, 3),\n",
    "              metal=[dp.CommonLayer.VIA_HEATER_2, dp.CommonLayer.METAL_2, dp.CommonLayer.METAL_PAD],\n",
    "              via=[dp.CommonLayer.VIA_HEATER_2, dp.CommonLayer.VIA_1_2, dp.CommonLayer.VIA_2_PAD])\n",
    "\n",
    "via1.hvplot().opts(title='single via, single layer') + via2.hvplot().opts(title='array via, multilayer')"
   ]
  },
  {
   "cell_type": "code",
   "execution_count": null,
   "id": "80d925ba-e551-4d8f-99d3-5661ff5f09f8",
   "metadata": {},
   "outputs": [],
   "source": [
    "from trimesh.transformations import rotation_matrix\n",
    "\n",
    "scene = via2.trimesh()\n",
    "scene.apply_transform(rotation_matrix(-np.pi / 3, (1, 0, 0)))\n",
    "scene.show()"
   ]
  },
  {
   "cell_type": "markdown",
   "id": "c445d6e5-94ac-4514-a829-1acec16d223d",
   "metadata": {
    "jp-MarkdownHeadingCollapsed": true,
    "tags": []
   },
   "source": [
    "### `FocusingGrating`\n",
    "\n",
    "A focusing grating can be defined using a partial etch and a full etch. We've already discussed this in the tutorial and above, but we will plot the focusing grating using trimesh below:"
   ]
  },
  {
   "cell_type": "code",
   "execution_count": null,
   "id": "98d44535-7daf-487c-be17-3b6afda1b6c8",
   "metadata": {},
   "outputs": [],
   "source": [
    "grating = dp.route.FocusingGrating(\n",
    "    n_env=dp.AIR.n,\n",
    "    n_core=dp.SILICON.n,\n",
    "    min_period=40,\n",
    "    num_periods=30,\n",
    "    wavelength=1.55,\n",
    "    fiber_angle=82,\n",
    "    duty_cycle=0.5,\n",
    "    waveguide_w=2\n",
    ")\n",
    "\n",
    "scene = grating.trimesh()\n",
    "\n",
    "# apply some settings to the scene to make the default view more palatable\n",
    "scene.apply_transform(np.diag((1, 1, 5, 1))) # make it easier to see the grating lines by scaling up the z-axis by 5x\n",
    "scene.apply_transform(rotation_matrix(-np.pi / 2.5, (1, 0, 0)))\n",
    "scene.show()"
   ]
  },
  {
   "cell_type": "markdown",
   "id": "c83acc11-f138-4245-8cd0-76edf375eccd",
   "metadata": {
    "jp-MarkdownHeadingCollapsed": true,
    "tags": []
   },
   "source": [
    "### `WaveguideDevice`\n",
    "\n",
    "A waveguide device is useful for rib waveguides."
   ]
  },
  {
   "cell_type": "code",
   "execution_count": null,
   "id": "367fbb15-0029-48c4-9c56-7b4d3175d5af",
   "metadata": {},
   "outputs": [],
   "source": [
    "core = dp.straight(length=10).path(0.5)\n",
    "slab = dp.cubic_taper(init_w=0.5, change_w=0.5, length=10, taper_length=3)\n",
    "\n",
    "dp.WaveguideDevice(core, slab).hvplot()"
   ]
  },
  {
   "cell_type": "markdown",
   "id": "3f2f64de-cf53-48a2-bc75-bc870ddbcbb8",
   "metadata": {
    "jp-MarkdownHeadingCollapsed": true,
    "tags": []
   },
   "source": [
    "### `ThermalPS`\n",
    "\n",
    "A thermal phase shifter is similar in spirit to a waveguide device."
   ]
  },
  {
   "cell_type": "code",
   "execution_count": null,
   "id": "1616c4d6-0cc7-498a-8195-4aad45e6c997",
   "metadata": {},
   "outputs": [],
   "source": [
    "ps = dp.ThermalPS(dp.straight(10).path(1), ps_w=2, via=dp.Via((0.4, 0.4), 0.1,\n",
    "                                                              metal=[dp.CommonLayer.HEATER, dp.CommonLayer.METAL_2],\n",
    "                                                              via=[dp.CommonLayer.VIA_HEATER_2]))\n",
    "\n",
    "ps.hvplot()"
   ]
  },
  {
   "cell_type": "markdown",
   "id": "c816c99c-8569-4860-9de5-0aec50f32936",
   "metadata": {},
   "source": [
    "The thermal phase shifter can in a sense be also thought of as a cross section, since the phase shifter can be set above any desired path."
   ]
  },
  {
   "cell_type": "code",
   "execution_count": null,
   "id": "b59513ad-cb80-463e-853d-0a4425209de0",
   "metadata": {},
   "outputs": [],
   "source": [
    "spiral_ps = dp.ThermalPS(dp.spiral_delay(8, 1, 2).path(0.5), \n",
    "                         ps_w=1, via=dp.Via((0.4, 0.4), 0.1,\n",
    "                         metal=[dp.CommonLayer.HEATER, dp.CommonLayer.METAL_2], via=[dp.CommonLayer.VIA_HEATER_2]))\n",
    "\n",
    "spiral_ps.hvplot()"
   ]
  },
  {
   "cell_type": "markdown",
   "id": "b5c6d891-767a-4f99-b3df-c8bef36a5d3b",
   "metadata": {},
   "source": [
    "Visualize using `trimesh`."
   ]
  },
  {
   "cell_type": "code",
   "execution_count": null,
   "id": "bbaf5bf4-bcab-4dc2-9f96-517ac3ebe2e5",
   "metadata": {},
   "outputs": [],
   "source": [
    "scene = spiral_ps.trimesh()\n",
    "\n",
    "scene.apply_transform(rotation_matrix(-np.pi / 2.5, (1, 0, 0)))\n",
    "\n",
    "scene.show()"
   ]
  },
  {
   "cell_type": "markdown",
   "id": "d9c4134f-a0e6-4bfe-90c0-c8680002fa40",
   "metadata": {
    "jp-MarkdownHeadingCollapsed": true,
    "tags": []
   },
   "source": [
    "### `MZI`\n",
    "\n",
    "An MZI is defined by a directional coupler `DC`, and a list of components with ports `a0`, `b0` placed on the MZI arms. Any difference in arm length is compensated by a waveguide of sufficient length to ensure equal arm horizontal length. \n",
    "\n",
    "*DISCLAIMER:* this is not a recommended physical design, just for demo purposes."
   ]
  },
  {
   "cell_type": "code",
   "execution_count": null,
   "id": "0bf58ef0-f439-477e-819a-982d65b2e09c",
   "metadata": {},
   "outputs": [],
   "source": [
    "dc = dp.DC(waveguide_w=1, interaction_l=2, bend_radius=2.5, interport_distance=10, gap_w=0.5)\n",
    "mzi = dp.MZI(dc, top_internal=[ps.copy], bottom_internal=[ps.copy], top_external=[ps.copy], bottom_external=[ps.copy])\n",
    "# mzi.halign(mzi.port['a0'].x)\n",
    "mzi.hvplot()"
   ]
  },
  {
   "cell_type": "code",
   "execution_count": null,
   "id": "c2049f01-1454-4421-85e1-6919880184a1",
   "metadata": {},
   "outputs": [],
   "source": [
    "mzi = dp.MZI(dc, top_internal=[ps, dp.bent_trombone(4, 10).path(1)],\n",
    "             bottom_internal=[ps], top_external=[ps], bottom_external=[ps])\n",
    "\n",
    "mzi.hvplot()"
   ]
  },
  {
   "cell_type": "code",
   "execution_count": null,
   "id": "90fd48d5-b14e-4c79-9c45-b1dc239f9380",
   "metadata": {},
   "outputs": [],
   "source": [
    "from dphox.demo import grating\n",
    "\n",
    "dc = dp.DC(waveguide_w=0.5, interaction_l=10, bend_radius=5, interport_distance=40, gap_w=0.3)\n",
    "tap_dc = dp.TapDC(\n",
    "    dp.DC(waveguide_w=0.5, interaction_l=0, bend_radius=2, interport_distance=5, gap_w=0.3), radius=2,\n",
    ").with_gratings(grating)\n",
    "mzi = dp.MZI(dc, top_internal=[spiral_ps, tap_dc, 5], bottom_internal=[spiral_ps, tap_dc])\n",
    "\n",
    "for port in mzi.port.values():\n",
    "    mzi.place(grating, port)\n",
    "\n",
    "mzi.hvplot()"
   ]
  },
  {
   "cell_type": "code",
   "execution_count": null,
   "id": "153fa072-ae8a-49d5-be80-2c6bd6bd3bdc",
   "metadata": {},
   "outputs": [],
   "source": [
    "mzi.path(flip=True).hvplot()"
   ]
  },
  {
   "cell_type": "markdown",
   "id": "151bd750-340a-45c8-a6d0-1792b1f9b7aa",
   "metadata": {},
   "source": [
    "Finally, let's look at our MZI."
   ]
  },
  {
   "cell_type": "code",
   "execution_count": null,
   "id": "21efe175-5f7d-404d-a07e-5f0707984427",
   "metadata": {},
   "outputs": [],
   "source": [
    "scene = mzi.trimesh()\n",
    "\n",
    "# scene.apply_transform(np.diag((1, 1, 5, 1))) # make it easier to see the grating lines by scaling up the z-axis by 5x\n",
    "scene.apply_transform(rotation_matrix(-np.pi / 2.5, (1, 0, 0)))\n",
    "\n",
    "scene.show()"
   ]
  },
  {
   "cell_type": "markdown",
   "id": "f1c1390b-490e-44e2-a47c-079c23da4e00",
   "metadata": {
    "tags": []
   },
   "source": [
    "### `LocalMesh`"
   ]
  },
  {
   "cell_type": "markdown",
   "id": "536b5a86-97a2-466f-8d69-8d855441c0d8",
   "metadata": {},
   "source": [
    "Turn this into a rectangular mesh (this takes some time because there are a lot of points in the spiral delay path."
   ]
  },
  {
   "cell_type": "code",
   "execution_count": null,
   "id": "24d88dd9-7cc4-4903-bd11-7a1c3ecae887",
   "metadata": {},
   "outputs": [],
   "source": [
    "dp.LocalMesh(mzi, 8, triangular=False).hvplot()"
   ]
  }
 ],
 "metadata": {
  "kernelspec": {
   "display_name": "Python 3",
   "language": "python",
   "name": "python3"
  },
  "language_info": {
   "codemirror_mode": {
    "name": "ipython",
    "version": 3
   },
   "file_extension": ".py",
   "mimetype": "text/x-python",
   "name": "python",
   "nbconvert_exporter": "python",
   "pygments_lexer": "ipython3",
   "version": "3.9.7"
  }
 },
 "nbformat": 4,
 "nbformat_minor": 5
}
