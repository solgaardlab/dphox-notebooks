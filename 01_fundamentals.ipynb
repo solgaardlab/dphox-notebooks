{
 "cells": [
  {
   "cell_type": "markdown",
   "id": "7499f646-cf76-4961-9815-9a4ee1eea791",
   "metadata": {
    "tags": []
   },
   "source": [
    "# Fundamentals: patterns and curves\n",
    "\n",
    "A `Pattern` in `dphox` is analogous to `shapely`'s `MultiPolygon`, and contains a set of polygons represented by a list of $2 \\times N$ `numpy` arrays.\n",
    "\n",
    "A `Pattern` can be treated pretty much like a shapely geometry in many respects. While we wrap boolean operations in `Pattern` using `shapely`'s API, we do not use shapely's `transform` operations. This is because those are not vectorized efficiently over all of the geometries as we do in `Pattern`.\n",
    "\n",
    "A `Curve` in `dphox` is analogous to `shapely`'s `MultiLineString`, and consists of a list of $2 \\times N$ `numpy` arrays like `Pattern`, except we do not assume the first and last points are connected.\n",
    "\n",
    "A path is a `Pattern`, which is a `Curve` with thickness or width, which may vary along a curve.\n",
    "\n",
    "`dphox` supports any curve or path that can be represented by piecewise parametric function(s): straight lines, circular and elliptical turns, Euler and Archimedian spiral turns, Manhattan routes, and much more. These are very useful for photonic and metal routing.\n",
    "\n",
    "In `dphox` (and similar libraries as `gdspy`), a parametric function is generally defined in terms of a variable $t \\in [0, 1]$. This can be used to define both the curve and the varying widths along the curve. The `resolution` or number of evaluations of the path, is generally defined for any curve that isn't \"straight\" and we typically use 100 as the default here, though that can vary."
   ]
  },
  {
   "cell_type": "markdown",
   "id": "8afa8ed2-c80b-4b35-bb9b-35ae7f8bdf24",
   "metadata": {
    "tags": []
   },
   "source": [
    "## Imports"
   ]
  },
  {
   "cell_type": "code",
   "execution_count": null,
   "id": "b5a22847-77b0-45f0-98e7-b418ace704e7",
   "metadata": {},
   "outputs": [],
   "source": [
    "import dphox as dp\n",
    "import numpy as np\n",
    "import holoviews as hv\n",
    "hv.extension('bokeh')"
   ]
  },
  {
   "cell_type": "markdown",
   "id": "cbaa3f1e-a12d-4c49-8fa2-d5efa5b10fa8",
   "metadata": {},
   "source": [
    "## Patterns\n",
    "\n",
    "A very important philosophy in `dphox` is to only implement things not already implemented in `shapely` unless there is a much more efficient batch implementation (e.g. vectorized transforms using numpy arrays). To this end, we will present many functionalities below that are very simple extensions of `shapely` transformations, owing to the seamless translation between `Pattern` and shapely geometries."
   ]
  },
  {
   "cell_type": "markdown",
   "id": "48ee53b5-e847-4335-9e2b-df97a2ab7bc2",
   "metadata": {},
   "source": [
    "### Text rendering\n",
    "\n",
    "Using the `dp.text` function it is possible to render any text using LaTeX assuming you've installed the fonts in your computer or using default fonts (as is the case in a default Colab kernel). Behind the scenes, we leverage matplotlib's LaTeX path patches. Below, we will generate the symbol $\\pi$ and manipulate it in the further examples.\n",
    "\n",
    "We also add a port $p$ of width $1$ at some location $(3, 1)$ with angle $0$, and you should note how it transforms along with the overall geometry."
   ]
  },
  {
   "cell_type": "code",
   "execution_count": null,
   "id": "a0cb4973-ad11-4c2f-a9e4-7dad12717877",
   "metadata": {},
   "outputs": [],
   "source": [
    "pi = dp.text(r\"$\\pi$\")\n",
    "pi.port['p'] = dp.Port(3, 1) \n",
    "pi.hvplot().opts(title='pi')"
   ]
  },
  {
   "cell_type": "markdown",
   "id": "3dff4c9c-1b40-4150-a90f-03af0a0a900c",
   "metadata": {},
   "source": [
    "### `translate`\n",
    "\n",
    "First let's experiment with translating the pattern. Note that I need to make a copy of the original pattern each time (this is a `deepcopy`) because I do not want to apply the transformations sequentially. The transformations also return object itself."
   ]
  },
  {
   "cell_type": "code",
   "execution_count": null,
   "id": "af6e26ba-2fad-4fc1-bb3e-7595c699fb7e",
   "metadata": {},
   "outputs": [],
   "source": [
    "pi1 = pi.copy.translate()  # no translation\n",
    "pi2 = pi.copy.translate(10)  # translation by 10\n",
    "pi3 = pi.copy.translate(10, 10)  # translation by (10, 10)\n",
    "\n",
    "b = dp.Pattern(pi1, pi2, pi3).bounds\n",
    "\n",
    "\n",
    "(pi1.hvplot() * pi2.hvplot('blue') * pi3.hvplot('red')).opts(xlim=(b[0], b[2]), ylim=(b[1], b[3]), title='translation')"
   ]
  },
  {
   "cell_type": "markdown",
   "id": "81ee91f8-67cf-4274-91c7-b4b1ef80e74a",
   "metadata": {},
   "source": [
    "### `rotate`\n",
    "\n",
    "Now, let's rotate and see what happens, again using the copy trick."
   ]
  },
  {
   "cell_type": "code",
   "execution_count": null,
   "id": "a3efad45-094f-4412-a180-17064491e9c3",
   "metadata": {},
   "outputs": [],
   "source": [
    "pi1 = pi.copy.rotate(45)  # rotate by 45 degrees about the origin\n",
    "pi2 = pi.copy.rotate(90)  # rotate by 90 degrees about the center of the pattern\n",
    "\n",
    "\n",
    "b = dp.Pattern(pi, pi1, pi2).bounds\n",
    "\n",
    "\n",
    "(pi.hvplot() * pi1.hvplot('blue') * pi2.hvplot('red')).opts(xlim=(b[0], b[2]), ylim=(b[1], b[3]), title='rotation')"
   ]
  },
  {
   "cell_type": "markdown",
   "id": "bfc98357-c597-486b-87a3-6a0c435891c6",
   "metadata": {},
   "source": [
    "We can choose any point of rotation so let's also do this about the center."
   ]
  },
  {
   "cell_type": "code",
   "execution_count": null,
   "id": "9ea3e062-4bd3-4cbf-8d81-2258270c29c6",
   "metadata": {},
   "outputs": [],
   "source": [
    "pi1 = pi.copy.rotate(45, pi.center)  # rotate by 45 degrees about the origin\n",
    "pi2 = pi.copy.rotate(90, pi.center)  # rotate by 90 degrees about the center of the pattern\n",
    "\n",
    "\n",
    "b = dp.Pattern(pi, pi1, pi2).bounds\n",
    "\n",
    "\n",
    "(pi.hvplot() * pi1.hvplot('blue') * pi2.hvplot('red')).opts(xlim=(b[0], b[2]), ylim=(b[1], b[3]), title='rotation')"
   ]
  },
  {
   "cell_type": "markdown",
   "id": "5f44af81-7606-42a3-adfe-96863f6af11b",
   "metadata": {},
   "source": [
    "### `scale`\n",
    "\n",
    "We can rescale our $\\pi$ geometry in the x and/or y dimensions as follows."
   ]
  },
  {
   "cell_type": "code",
   "execution_count": null,
   "id": "ae1a3507-3cd2-42db-acf7-c7548329fa3d",
   "metadata": {},
   "outputs": [],
   "source": [
    "pi1 = pi.copy.scale(4, origin=pi.center)  # rotate by 45 degrees about the origin\n",
    "pi2 = pi.copy.scale(2, 2, pi.center)  # rotate by 90 degrees about the center of the pattern\n",
    "\n",
    "\n",
    "b = dp.Pattern(pi, pi1, pi2).bounds\n",
    "\n",
    "\n",
    "(pi.hvplot() * pi1.hvplot('blue') * pi2.hvplot('red')).opts(xlim=(b[0], b[2]), ylim=(b[1], b[3]), title='scale')"
   ]
  },
  {
   "cell_type": "markdown",
   "id": "f8ce56ca-6121-427b-9670-6528b1873d3c",
   "metadata": {},
   "source": [
    "### `skew`\n",
    "\n",
    "We can skew our $\\pi$ geometry in the x and/or y dimensions as follows. "
   ]
  },
  {
   "cell_type": "code",
   "execution_count": null,
   "id": "b2716519-c9af-41ee-be9a-43e33fb055b7",
   "metadata": {},
   "outputs": [],
   "source": [
    "pi1 = pi.copy.skew(0.5, origin=pi.center)  # rotate by 45 degrees about the origin\n",
    "pi2 = pi.copy.skew(0, -0.5, pi.center)  # rotate by 90 degrees about the center of the pattern\n",
    "\n",
    "\n",
    "b = dp.Pattern(pi, pi1, pi2).bounds\n",
    "\n",
    "\n",
    "(pi.hvplot().opts(title='no skew') + pi1.hvplot('blue').opts(title='xskew') + pi2.hvplot('red').opts(title='yskew'))"
   ]
  },
  {
   "cell_type": "markdown",
   "id": "584318a7-6986-4fbc-bfb4-23ba0a808184",
   "metadata": {},
   "source": [
    "### `align`\n",
    "\n",
    "Sometimes, it might be easier to just align and/or stack designs next to each other, especially in cases where no port reference points / orientations are defined. In such a case, we may use the `align`, `halign`, `valign` functions. Inspiration for this feature comes from `phidl`."
   ]
  },
  {
   "cell_type": "code",
   "execution_count": null,
   "id": "6d2fe301-8f6e-4577-8701-43c5946497e3",
   "metadata": {
    "tags": []
   },
   "outputs": [],
   "source": [
    "circle = dp.Circle(5)\n",
    "\n",
    "\n",
    "circle.align(pi)\n",
    "\n",
    "b = dp.Pattern(circle, pi).bounds\n",
    "\n",
    "(pi.hvplot() * circle.hvplot('green')).opts(xlim=(b[0], b[2]), ylim=(b[1], b[3]), title='scale')"
   ]
  },
  {
   "cell_type": "markdown",
   "id": "d90ca2e1-a34f-477a-b23b-40eda4e1cca8",
   "metadata": {},
   "source": [
    "## `halign`\n",
    "\n",
    "Here we now align another smaller box to the edge of the circle using `halign` and `valign`."
   ]
  },
  {
   "cell_type": "code",
   "execution_count": null,
   "id": "1055ae42-6ee1-48ae-8c78-c0280a357b8b",
   "metadata": {
    "tags": []
   },
   "outputs": [],
   "source": [
    "box = dp.Box((3, 3))  # centered at (0, 0) by default.\n",
    "\n",
    "aligned_boxes = {\n",
    "    'default': box.copy.halign(circle),\n",
    "    'opposite=True': box.copy.halign(circle, opposite=True),\n",
    "    'left=False': box.copy.halign(circle, left=False),\n",
    "    'left=False,opposite=True': box.copy.halign(circle, left=False, opposite=True),\n",
    "}\n",
    "\n",
    "plots = []\n",
    "\n",
    "for name, bx in aligned_boxes.items():\n",
    "    b = dp.Pattern(circle, bx, pi).bounds\n",
    "    plots.append(\n",
    "        (pi.hvplot() * circle.hvplot('green') * bx.hvplot('blue', plot_ports=False)).opts(\n",
    "            xlim=(b[0], b[2]), ylim=(b[1], b[3]), title=name\n",
    "        )\n",
    "    )\n",
    "\n",
    "hv.Layout(plots).cols(2).opts(shared_axes=False)"
   ]
  },
  {
   "cell_type": "markdown",
   "id": "2f681256-4f57-4f23-b38e-c293b674149c",
   "metadata": {},
   "source": [
    "### `valign`"
   ]
  },
  {
   "cell_type": "code",
   "execution_count": null,
   "id": "de8db12f-c049-4388-8a87-64c69859501f",
   "metadata": {},
   "outputs": [],
   "source": [
    "box.halign(circle, opposite=True)  # to create a wider plot\n",
    "aligned_boxes = {\n",
    "    'default': box.copy.valign(circle),\n",
    "    'opposite=True': box.copy.valign(circle, opposite=True),\n",
    "    'bottom=False': box.copy.valign(circle, bottom=False),\n",
    "    'bottom=False,opposite=True': box.copy.valign(circle, bottom=False, opposite=True),\n",
    "}\n",
    "\n",
    "plots = []\n",
    "\n",
    "for name, bx in aligned_boxes.items():\n",
    "    b = dp.Pattern(circle, bx, pi).bounds\n",
    "    plots.append(\n",
    "        (pi.hvplot() * circle.hvplot('green') * bx.hvplot('blue', plot_ports=False)).opts(\n",
    "            xlim=(b[0], b[2]), ylim=(b[1], b[3]), title=name\n",
    "        )\n",
    "    )\n",
    "\n",
    "hv.Layout(plots).cols(2).opts(shared_axes=False)"
   ]
  },
  {
   "cell_type": "markdown",
   "id": "563ea17f-bb32-4800-ba41-ee8b3969f334",
   "metadata": {},
   "source": [
    "### `to`\n",
    "\n",
    "The `to` command allows ports in different devices to be aligned to each other. If a `from_port` is not specified, assume the port is at the origin `(0, 0)` with an angle of $180^\\circ$ in the reference plane of the pattern."
   ]
  },
  {
   "cell_type": "code",
   "execution_count": null,
   "id": "f8d0e4a4-effe-4cfc-8865-05c86ed21cd4",
   "metadata": {},
   "outputs": [],
   "source": [
    "box = dp.Box((3, 3))\n",
    "\n",
    "box.port = {'n': dp.Port(a=45)} # 45 degree reference port.\n",
    "\n",
    "aligned_boxes = {\n",
    "    'to n from origin': pi.copy.to(box.port['n']),\n",
    "    'to n from p': pi.copy.to(box.port['n'], from_port='p')\n",
    "}\n",
    "\n",
    "plots = []\n",
    "\n",
    "for name, bx in aligned_boxes.items():\n",
    "    b = dp.Pattern(bx, box).bounds\n",
    "    plots.append(\n",
    "        (box.hvplot() * bx.hvplot('blue')).opts(\n",
    "            xlim=(b[0], b[2]), ylim=(b[1], b[3]), title=name\n",
    "        )\n",
    "    )\n",
    "\n",
    "hv.Layout(plots).cols(2).opts(shared_axes=False)"
   ]
  },
  {
   "cell_type": "code",
   "execution_count": null,
   "id": "3ed4f164-8c1d-4a57-93bb-c6a376d48656",
   "metadata": {},
   "outputs": [],
   "source": [
    "aligned_boxes = {\n",
    "    'to p from origin': box.copy.to(pi.port['p']),\n",
    "    'to p from n': box.copy.to(pi.port['p'], from_port='n')\n",
    "}\n",
    "\n",
    "plots = []\n",
    "\n",
    "for name, bx in aligned_boxes.items():\n",
    "    b = dp.Pattern(bx, pi).bounds\n",
    "    plots.append(\n",
    "        (bx.hvplot() * pi.hvplot('blue')).opts(\n",
    "            xlim=(b[0], b[2]), ylim=(b[1], b[3]), title=name\n",
    "        )\n",
    "    )\n",
    "hv.Layout(plots).cols(2).opts(shared_axes=False)"
   ]
  },
  {
   "cell_type": "markdown",
   "id": "e7ef9575-1293-47b8-9258-f718354214a9",
   "metadata": {},
   "source": [
    "## Curves and paths\n",
    "\n",
    "Before we discuss the `link`, `offset`, `symmetrize`, `loopify`, and `turn_connect` operations, we will discuss the various fundamental building blocks or elements for curves and paths."
   ]
  },
  {
   "cell_type": "markdown",
   "id": "1042ad39-55c3-4aa4-b074-45b0d083866e",
   "metadata": {
    "jp-MarkdownHeadingCollapsed": true,
    "tags": []
   },
   "source": [
    "### `straight`\n",
    "\n",
    "A straight path or waveguide can be defined based on a width $w$ and length $\\ell$ and simply consists of two points."
   ]
  },
  {
   "cell_type": "code",
   "execution_count": null,
   "id": "163b2d1e-48a5-4eee-8367-ab413c3d23ab",
   "metadata": {},
   "outputs": [],
   "source": [
    "straight_curve = dp.straight(3) # A turn of radius 5.\n",
    "\n",
    "straight_path = dp.straight(3).path(1) # A turn of radius 5 and width 1\n",
    "\n",
    "straight_curve.hvplot().opts(title='straight curve', ylim=(-2, 2)) + straight_path.hvplot().opts(title='straight path', ylim=(-2, 2))"
   ]
  },
  {
   "cell_type": "code",
   "execution_count": null,
   "id": "f9d138a9-872a-400e-b8bf-d2a70fed3f61",
   "metadata": {},
   "outputs": [],
   "source": [
    "hv.DynamicMap(lambda width, length: dp.straight(length).path(width).hvplot().opts(\n",
    "    xlim=(0, 5), ylim=(-2, 2)),\n",
    "    kdims=['width', 'length']).redim.range(\n",
    "    width=(0.1, 0.5), length=(1, 5)).opts(framewise=True)"
   ]
  },
  {
   "cell_type": "markdown",
   "id": "9bd7af7f-7733-47fc-99a1-98d7c35c84a9",
   "metadata": {
    "jp-MarkdownHeadingCollapsed": true,
    "tags": []
   },
   "source": [
    "### `turn`\n",
    "\n",
    "A smooth turn can be defined based on a width $w$ or taper function $w(t)$, radius $r$, Euler fraction $e$ (linearly ramps the curvature to reduce photonic bend loss).\n",
    "Note that the Euler parameter increases the length of the bend but takes up the roughly same bounding box area."
   ]
  },
  {
   "cell_type": "code",
   "execution_count": null,
   "id": "69e9c862-12d4-4f0b-b428-033901a822dd",
   "metadata": {},
   "outputs": [],
   "source": [
    "turn_curve = dp.turn(5, 90) # A turn of radius 5.\n",
    "\n",
    "turn_path = dp.turn(5, 90).path(1) # A turn of radius 5 and width 1\n",
    "\n",
    "turn_curve.hvplot().opts(title='turn curve') + turn_path.hvplot().opts(title='turn path')"
   ]
  },
  {
   "cell_type": "code",
   "execution_count": null,
   "id": "3376a67d-4fd1-4d06-b620-95bb774ea2b6",
   "metadata": {},
   "outputs": [],
   "source": [
    "dmap = hv.DynamicMap(lambda width, radius, angle, euler: dp.turn(radius, angle, euler).path(width).hvplot().opts(\n",
    "    xlim=(-10, 10), ylim=(-10, 10)),\n",
    "    kdims=['width', 'radius', 'angle', 'euler'])\n",
    "dmap.redim.range(width=(0.3, 0.7), radius=(3., 5.), angle=(-180, 180), euler=(0, 0.5)).redim.step(radius=0.1, euler=0.05).redim.default(angle=90, width=0.5, radius=5)"
   ]
  },
  {
   "cell_type": "markdown",
   "id": "1f6afcc3-fd63-42aa-94d9-311053055bba",
   "metadata": {
    "jp-MarkdownHeadingCollapsed": true,
    "tags": []
   },
   "source": [
    "### `taper`\n",
    "\n",
    "A taper follows the polynomial width function $w(t)$.\n",
    "\n",
    "We typically define this based on a polynomial function $w(t) = w_0 + w_1 t + w_2 t^2 + w_3 t^3 \\cdots $, so we define these in `dphox` explicitly. The nice thing about this form $w(t)$ is that the sum of the coefficients gives the overall width at the end ($t = 1$) and $w_0$ gives the initial width. \n",
    "\n",
    "Why use a nonlinear taper?\n",
    "- A quadratic taper is the minimal function that allows for $C_2$ smooth tapering transition at *either one* end.\n",
    "- A cubic taper is the minimal function that allows for $C_2$ smooth tapering transitions on *both* ends."
   ]
  },
  {
   "cell_type": "code",
   "execution_count": null,
   "id": "134eb176-5fa3-47d6-a915-6c37a01f2b3a",
   "metadata": {},
   "outputs": [],
   "source": [
    "cubic = dp.taper(5).path(dp.cubic_taper_fn(1, 0.5))\n",
    "quad = dp.taper(5).path(dp.quad_taper_fn(1, 0.5))\n",
    "linear = dp.taper(5).path(dp.linear_taper_fn(1, 0.5))\n",
    "\n",
    "linear_plot = linear.hvplot().opts(title='linear taper (1 to 0.5)', ylim=(-2, 2))\n",
    "quad_plot = quad.hvplot().opts(title='quadratic taper (1 to 0.5)', ylim=(-2, 2))\n",
    "cubic_plot = cubic.hvplot().opts(title='cubic taper (1 to 0.5)', ylim=(-2, 2))\n",
    "linear_plot + quad_plot + cubic_plot"
   ]
  },
  {
   "cell_type": "code",
   "execution_count": null,
   "id": "283e850e-f4d9-4bb0-99fb-56210a06d755",
   "metadata": {},
   "outputs": [],
   "source": [
    "import panel as pn\n",
    "def taper_plot(length, init_w, final_w):\n",
    "    cubic = dp.taper(length).path(dp.cubic_taper_fn(init_w, final_w))\n",
    "    quad = dp.taper(length).path(dp.quad_taper_fn(init_w, final_w))\n",
    "    linear = dp.taper(length).path(dp.linear_taper_fn(init_w, final_w))\n",
    "    linear_plot = linear.hvplot().opts(title=f'linear taper ({init_w} to {final_w})', xlim=(0, 10), ylim=(-5, 5))\n",
    "    quad_plot = quad.hvplot().opts(title=f'quadratic taper ({init_w} to {final_w})', xlim=(0, 10), ylim=(-5, 5))\n",
    "    cubic_plot = cubic.hvplot().opts(title=f'cubic taper ({init_w} to {final_w})', xlim=(0, 10), ylim=(-5, 5))\n",
    "    return linear_plot + quad_plot + cubic_plot\n",
    "\n",
    "dmap = hv.DynamicMap(lambda length, init_w, final_w: taper_plot(length, init_w, final_w), kdims=['length', 'init_w', 'final_w'])\n",
    "dmap.redim.range(length=(5., 10.), init_w=(3., 5.), final_w=(2., 6.)).redim.default(length=10)"
   ]
  },
  {
   "cell_type": "markdown",
   "id": "8c7bfa37-c432-4a73-bbe7-e78f54ed5d75",
   "metadata": {
    "jp-MarkdownHeadingCollapsed": true,
    "tags": []
   },
   "source": [
    "### `arc`\n",
    "\n",
    "An arc of specified angle $\\alpha$, radiu $r$, similar to a circular bend except now the center is at the origin."
   ]
  },
  {
   "cell_type": "code",
   "execution_count": null,
   "id": "5c48ac0c-f89f-4d57-8ac4-f37d7bc196be",
   "metadata": {},
   "outputs": [],
   "source": [
    "curve = dp.arc(120, 5)\n",
    "path = curve.path(1)\n",
    "path_taper = curve.path(dp.cubic_taper_fn(0.5, 2))\n",
    "\n",
    "arc_curve_plot = curve.hvplot().opts(xlim=(0, 6), ylim=(-5, 5), title='arc curve')\n",
    "arc_path_plot = path.hvplot().opts(xlim=(0, 6), ylim=(-5, 5), title='arc path')\n",
    "arc_path_taper_plot = path_taper.hvplot().opts(xlim=(0, 6), ylim=(-5, 5), title='arc path, cubic taper')\n",
    "\n",
    "arc_curve_plot + arc_path_plot + arc_path_taper_plot"
   ]
  },
  {
   "cell_type": "markdown",
   "id": "24c5927a-9fd3-4f56-9ffe-edca1c1c431f",
   "metadata": {
    "jp-MarkdownHeadingCollapsed": true,
    "tags": []
   },
   "source": [
    "### `bezier_sbend`\n",
    "\n",
    "An sbend following a classic cubic, 4-pole bezier structure defined based on a width $w$ or taper function $w(t)$, bend width displacement $\\delta x$, bend height displacement $\\delta y$. The poles are placed at $(0, 0), (\\delta x / 2, 0), (\\delta x / 2, \\delta y), (\\delta x, \\delta y)$."
   ]
  },
  {
   "cell_type": "code",
   "execution_count": null,
   "id": "81a39bd3-1f99-4392-8346-5a5e83a481c7",
   "metadata": {},
   "outputs": [],
   "source": [
    "curve = dp.bezier_sbend(bend_x=15, bend_y=10)\n",
    "path = dp.bezier_sbend(15, 10).path(1)\n",
    "path_taper = dp.bezier_sbend(15, 10).path(dp.cubic_taper_fn(0.5, 2))\n",
    "\n",
    "curve.hvplot().opts(title='bezier curve') + path.hvplot().opts(title='bezier path') + path_taper.hvplot().opts(title='bezier path, cubic taper')"
   ]
  },
  {
   "cell_type": "markdown",
   "id": "63253805-40f8-482d-81f2-6652b8a3fe63",
   "metadata": {
    "jp-MarkdownHeadingCollapsed": true,
    "tags": []
   },
   "source": [
    "### `turn_sbend`\n",
    "\n",
    "An sbend based on circular/Euler turns rather than bezier curves, and involve bending up and down by the same angle (assumed to be less than 90 degrees). The input parameters are an effective radius $r$ and a bend height $\\delta y$ for the sbend. If the radius is smaller than twice the bend height, we use 90 degree turns and allow the straight segment to cover the full bend height."
   ]
  },
  {
   "cell_type": "code",
   "execution_count": null,
   "id": "5352c117-3987-4a05-97e5-7e752bff0713",
   "metadata": {},
   "outputs": [],
   "source": [
    "curve = dp.turn_sbend(height=5, radius=5)\n",
    "path = dp.turn_sbend(5, 5).path(1)\n",
    "path_taper = dp.turn_sbend(5, 5).interpolated.path(dp.cubic_taper_fn(0.5, 2))\n",
    "curve.hvplot().opts(title='turn_sbend curve') + path.hvplot().opts(title='turn_sbend path') + path_taper.hvplot().opts(title='turn_sbend path, cubic taper')"
   ]
  },
  {
   "cell_type": "markdown",
   "id": "38d1a30b-277f-4d1b-8470-b8fc5cf0e8f9",
   "metadata": {
    "tags": []
   },
   "source": [
    "## Operations"
   ]
  },
  {
   "cell_type": "markdown",
   "id": "549fd75f-4179-4ef9-bf7e-02dba691edcc",
   "metadata": {
    "jp-MarkdownHeadingCollapsed": true,
    "tags": []
   },
   "source": [
    "### `link`\n",
    "\n",
    "The `link` operation is your friend. It allows you to compose elements into a full path. Think of `link` like building a road. As an example of `link` consider the `trombone` and `racetrack` functions below (also defined with more options in `dphox`)."
   ]
  },
  {
   "cell_type": "code",
   "execution_count": null,
   "id": "32f7e146-222e-4371-b635-f91c8f5eb771",
   "metadata": {},
   "outputs": [],
   "source": [
    "def racetrack(radius: float, length: float):\n",
    "    return dp.link(dp.left_uturn(radius), length, dp.left_uturn(radius), length)\n",
    "\n",
    "def trombone(radius: float, length: float):\n",
    "    return dp.link(dp.left_turn(radius), length, dp.right_uturn(radius), length, dp.left_turn(radius))\n",
    "\n",
    "racetrack_curve = racetrack(5, 10)\n",
    "trombone_curve = trombone(5, 10)\n",
    "\n",
    "racetrack_plot = racetrack_curve.path(1).hvplot(alpha=0.2) * racetrack_curve.hvplot(alternate_color='green', line_width=4)\n",
    "trombone_plot = trombone_curve.path(2).hvplot(alpha=0.2) * trombone_curve.hvplot(alternate_color='green', line_width=4)\n",
    "\n",
    "(racetrack_plot.opts(title='racetrack') + trombone_plot.opts(title='trombone')).opts(shared_axes=False)"
   ]
  },
  {
   "cell_type": "markdown",
   "id": "3a380035-fb19-467b-bcdc-59ff33ae63f1",
   "metadata": {
    "jp-MarkdownHeadingCollapsed": true,
    "tags": []
   },
   "source": [
    "### `segments`\n",
    "\n",
    "We can also visualize the individual elements of `link` by plotting all of the geometries in teh racetrack curve, which we refer here as `segments`."
   ]
  },
  {
   "cell_type": "code",
   "execution_count": null,
   "id": "7743b6f5-2af4-4d96-a8e1-593acba52639",
   "metadata": {},
   "outputs": [],
   "source": [
    "racetrack_segments = racetrack_curve.segments\n",
    "xmin, ymin, xmax, ymax = racetrack_curve.bounds\n",
    "\n",
    "hv.Overlay([segment.hvplot() for segment in racetrack_segments]).opts(xlim=(xmin - 2, xmax + 2), ylim=(ymin - 2, ymax + 2))"
   ]
  },
  {
   "cell_type": "markdown",
   "id": "6f11f222-1aba-4c45-8811-fbbdb51f68d9",
   "metadata": {
    "jp-MarkdownHeadingCollapsed": true,
    "tags": []
   },
   "source": [
    "### `reverse`\n",
    "\n",
    "The `reverse()` operation simply reverses the curve to move in the opposite direction and flips the ports."
   ]
  },
  {
   "cell_type": "code",
   "execution_count": null,
   "id": "eb99e5bd-fba0-4b65-93d3-f941f2d52aa4",
   "metadata": {},
   "outputs": [],
   "source": [
    "taper = dp.taper(5).path(dp.cubic_taper_fn(1, 0.5))\n",
    "reverse_taper = dp.taper(5).reverse().path(dp.cubic_taper_fn(1, 0.5))\n",
    "\n",
    "(taper.hvplot().opts(title='forward') + reverse_taper.hvplot().opts(title='backward')).opts(shared_axes=False).cols(1)"
   ]
  },
  {
   "cell_type": "markdown",
   "id": "8a624932-02d6-4062-999d-33a848eb9177",
   "metadata": {
    "jp-MarkdownHeadingCollapsed": true,
    "tags": []
   },
   "source": [
    "### `interpolated`\n",
    "\n",
    "Interpolation of a curve is important in cases where there are multiple segments to a curve with varying resolution. Interpolation allows for tapering of geometries with equal segment lengths along the curve, and can be called using `.interpolated`. Below is an example for when the radius of a `turn_sbend` is smaller than twice the bend height; as you can see the taper is more evenly distributed in the interpolated case."
   ]
  },
  {
   "cell_type": "code",
   "execution_count": null,
   "id": "b35a24c8-216d-4516-a97a-23138509cbb4",
   "metadata": {},
   "outputs": [],
   "source": [
    "path_taper = dp.turn_sbend(20, 5).path(dp.cubic_taper_fn(0.5, 2))\n",
    "path_taper_interp = dp.turn_sbend(20, 5).interpolated.path(dp.cubic_taper_fn(0.5, 2))\n",
    "path_taper.hvplot().opts(title='noninterpolated', fontsize=10) + path_taper_interp.hvplot().opts(title='interpolated', fontsize=10)"
   ]
  },
  {
   "cell_type": "markdown",
   "id": "8d784f98-9bbc-4604-ba4a-4869b556af25",
   "metadata": {
    "jp-MarkdownHeadingCollapsed": true,
    "tags": []
   },
   "source": [
    "### `symmetrized`\n",
    "\n",
    "The symmetrization of a curve or path mirrors any curve or path at its endpoint."
   ]
  },
  {
   "cell_type": "code",
   "execution_count": null,
   "id": "d002445e-9d78-4d26-8d31-d174d8b67e85",
   "metadata": {},
   "outputs": [],
   "source": [
    "trombone_taper = path_taper_interp.symmetrized()\n",
    "\n",
    "trombone_taper.hvplot(alpha=0.5) * trombone_taper.curve.hvplot(alternate_color='red', line_width=6)"
   ]
  },
  {
   "cell_type": "markdown",
   "id": "8c45b8d7-8714-4bc5-8296-0eb02b50beb9",
   "metadata": {},
   "source": [
    "We can apply the symmetrization many times to build funky ring structures."
   ]
  },
  {
   "cell_type": "code",
   "execution_count": null,
   "id": "58b95a24-b397-4de3-973f-ab6830a47b9a",
   "metadata": {},
   "outputs": [],
   "source": [
    "path1 = dp.link(dp.turn(5, -45).path(0.5), trombone_taper, dp.turn(5, -45).path(0.5)).symmetrized().symmetrized()\n",
    "\n",
    "path2 = dp.link(dp.turn(5, -45).path(0.5), trombone_taper.symmetrized(), dp.turn(5, -45).path(0.5)).symmetrized().symmetrized()\n",
    "\n",
    "\n",
    "(path1.hvplot() * path1.curve.hvplot(alternate_color='red') + path2.hvplot() * path2.curve.hvplot(alternate_color='red')).opts(shared_axes=False)"
   ]
  }
 ],
 "metadata": {
  "kernelspec": {
   "display_name": "Python 3",
   "language": "python",
   "name": "python3"
  },
  "language_info": {
   "codemirror_mode": {
    "name": "ipython",
    "version": 3
   },
   "file_extension": ".py",
   "mimetype": "text/x-python",
   "name": "python",
   "nbconvert_exporter": "python",
   "pygments_lexer": "ipython3",
   "version": "3.9.7"
  }
 },
 "nbformat": 4,
 "nbformat_minor": 5
}
