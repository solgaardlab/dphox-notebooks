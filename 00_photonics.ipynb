{
  "cells": [
    {
      "cell_type": "markdown",
      "id": "df4e5eb8-736f-4be6-b956-684bd67c4f50",
      "metadata": {
        "tags": [],
        "id": "df4e5eb8-736f-4be6-b956-684bd67c4f50"
      },
      "source": [
        "# Photonic design in `dphox`"
      ]
    },
    {
      "cell_type": "markdown",
      "id": "25f87704-e435-4ff5-8b1c-3453ec30c330",
      "metadata": {
        "id": "25f87704-e435-4ff5-8b1c-3453ec30c330"
      },
      "source": [
        "## At a glance\n",
        "\n",
        "In this tutorial, the goal is to demonstrate how practical photonic devices can be designed efficiently in `dphox`.\n",
        "\n",
        "Along the way, the following advantages will be highlighted:\n",
        "- Efficient raw `numpy` implementations for polygon and curve transformations\n",
        "- Dependence on [`shapely`](https://shapely.readthedocs.io/en/stable/manual.html)\n",
        "in favor of [`pyclipper`](https://pypi.org/project/pyclipper/) (less actively maintained).\n",
        "  - `dphox.Curve` ~ `shapely.geometry.MultiLineString`\n",
        "  - `dphox.Pattern` ~ `shapely.geometry.MultiPolygon`\n",
        "- A simple implementation of GDS I/O\n",
        "- Uses `trimesh` for 3D viewing/export, `blender` figures at your fingertips!\n",
        "- Plotting using [`holoviews`](https://holoviews.org/) and [`bokeh`](http://docs.bokeh.org/en/latest/),\n",
        "allowing zoom in/out in a notebook.\n",
        "- Prefabbed passive and active components and circuits such as gratings, interposers, MZIs and MZI meshes.\n",
        "\n",
        "Future tutorials will cover the following:\n",
        "- More intuitive representation of GDS cell hierarchy (via `Device`).\n",
        "- Interface to photonic simulation (see our `simphox` and `MEEP` examples).\n",
        "- Inverse-designed devices may be incorporated via a `replace` function.\n",
        "- Read and interface with foundry PDKs automatically, even if provided via GDS."
      ]
    },
    {
      "cell_type": "markdown",
      "id": "0924f9fa-7d99-4de5-bd5b-3d1f136dfc40",
      "metadata": {
        "tags": [],
        "id": "0924f9fa-7d99-4de5-bd5b-3d1f136dfc40"
      },
      "source": [
        "## Imports"
      ]
    },
    {
      "cell_type": "code",
      "execution_count": null,
      "id": "0299beef-3707-4df0-869a-075d80434677",
      "metadata": {
        "id": "0299beef-3707-4df0-869a-075d80434677"
      },
      "outputs": [],
      "source": [
        "import dphox as dp\n",
        "import numpy as np\n",
        "import holoviews as hv\n",
        "hv.extension('bokeh')\n",
        "import warnings\n",
        "warnings.filterwarnings('ignore')  # ignore shapely warnings"
      ]
    },
    {
      "cell_type": "markdown",
      "id": "7f1e2fb5-d7cd-4331-ba97-2e2f10bbb81a",
      "metadata": {
        "tags": [],
        "id": "7f1e2fb5-d7cd-4331-ba97-2e2f10bbb81a"
      },
      "source": [
        "## Waveguide crossing\n",
        "\n",
        "In this tutorial, we will design waveguide crossings while also understanding how geometries can be manipulated.\n",
        "\n",
        "First let's define a waveguide. Our goal is to rotate that same waveguide at the center to form a 90-degree crossing with four-way symmetry."
      ]
    },
    {
      "cell_type": "code",
      "execution_count": null,
      "id": "670575a6-13d5-40c8-bd13-42314a7ffdb3",
      "metadata": {
        "id": "670575a6-13d5-40c8-bd13-42314a7ffdb3"
      },
      "outputs": [],
      "source": [
        "taper = dp.cubic_taper(1, 1, 12.5, 5)\n",
        "taper.hvplot()"
      ]
    },
    {
      "cell_type": "markdown",
      "id": "375d6ee3-e9b6-4c66-87d5-45c92d2f3341",
      "metadata": {
        "id": "375d6ee3-e9b6-4c66-87d5-45c92d2f3341"
      },
      "source": [
        "The ports of the taper waveguide are accessed as follows. Ports can be thought of has \"reference poses,\" where a pose includes a position ($x, y$) and orientation (angle $a$), and also contain information about the width. These ports are incredible important in any design flow, especially for routing, and also play a critical role in simulating waveguide-based devices since they define the mode-based source (the port can store height $h$ and position $z$ for a 3D application)."
      ]
    },
    {
      "cell_type": "code",
      "execution_count": null,
      "id": "cb75039c-456b-4ccc-a042-cd64d6fd657d",
      "metadata": {
        "id": "cb75039c-456b-4ccc-a042-cd64d6fd657d"
      },
      "outputs": [],
      "source": [
        "taper.port"
      ]
    },
    {
      "cell_type": "markdown",
      "id": "6a27ead0-a1f6-4597-a6e0-2354eb6c10b9",
      "metadata": {
        "id": "6a27ead0-a1f6-4597-a6e0-2354eb6c10b9"
      },
      "source": [
        "One of `dphox`'s advantages is that it provides a convenient shapely interface. We can use shapely's notebook `__repr__` to quickly view any pattern by just accessing it:"
      ]
    },
    {
      "cell_type": "code",
      "execution_count": null,
      "id": "86839477-068f-45de-9352-01d717f54dd2",
      "metadata": {
        "id": "86839477-068f-45de-9352-01d717f54dd2"
      },
      "outputs": [],
      "source": [
        "taper.shapely"
      ]
    },
    {
      "cell_type": "markdown",
      "id": "9a398f21-b270-465c-9d1d-35fc22a65ec2",
      "metadata": {
        "id": "9a398f21-b270-465c-9d1d-35fc22a65ec2"
      },
      "source": [
        "The shapely pattern is red because there are intersections in the pattern, namely shared boundaries. This makes it hard to do things like shapely boolean operations on the pattern due to self-intersections. To remedy this, we can apply a union to get rid of the shared patterns, resulting in a green preview. Note that now we have a "
      ]
    },
    {
      "cell_type": "code",
      "execution_count": null,
      "id": "5c994e26-c5fa-4247-984a-51fb651d2e39",
      "metadata": {
        "id": "5c994e26-c5fa-4247-984a-51fb651d2e39"
      },
      "outputs": [],
      "source": [
        "taper.shapely_union"
      ]
    },
    {
      "cell_type": "markdown",
      "id": "43aa9317-bfb8-4a0f-8ce1-1ff3a7386c30",
      "metadata": {
        "id": "43aa9317-bfb8-4a0f-8ce1-1ff3a7386c30"
      },
      "source": [
        "Now let's plot the 90-degree rotated waveguide about the origin. Note that we haven't rotated the pattern about its center so it's misaligned."
      ]
    },
    {
      "cell_type": "code",
      "execution_count": null,
      "id": "454c09df-7882-4c7f-a58e-6579e3e1f652",
      "metadata": {
        "id": "454c09df-7882-4c7f-a58e-6579e3e1f652"
      },
      "outputs": [],
      "source": [
        "misaligned_rotated_taper = taper.copy.rotate(90)\n",
        "(misaligned_rotated_taper.hvplot(color='blue') * taper.hvplot()).opts(xlim=(-2, 14), ylim=(-2, 14))"
      ]
    },
    {
      "cell_type": "code",
      "execution_count": null,
      "id": "9d458581-4776-4d89-8dd2-0c017cdc4315",
      "metadata": {
        "id": "9d458581-4776-4d89-8dd2-0c017cdc4315"
      },
      "outputs": [],
      "source": [
        "aligned_rotated_taper = taper.copy.rotate(90, taper.center)\n",
        "(misaligned_rotated_taper.hvplot('blue') * aligned_rotated_taper.hvplot(color='green') * taper.hvplot()).opts(xlim=(-2, 14), ylim=(-8, 8))"
      ]
    },
    {
      "cell_type": "markdown",
      "id": "63071157-2a62-4ec7-8547-6f731b620c06",
      "metadata": {
        "id": "63071157-2a62-4ec7-8547-6f731b620c06"
      },
      "source": [
        "Clearly, the green taper is the correct one, but now we need to combine the two waveguides and assign the right ports to it."
      ]
    },
    {
      "cell_type": "code",
      "execution_count": null,
      "id": "a484f7e7-4e0b-4730-87bf-8e67ad244403",
      "metadata": {
        "id": "a484f7e7-4e0b-4730-87bf-8e67ad244403"
      },
      "outputs": [],
      "source": [
        "crossing = dp.Pattern(aligned_rotated_taper, taper)"
      ]
    },
    {
      "cell_type": "code",
      "execution_count": null,
      "id": "27bd4823-3499-42a8-b70e-ad41729d0d8c",
      "metadata": {
        "id": "27bd4823-3499-42a8-b70e-ad41729d0d8c"
      },
      "outputs": [],
      "source": [
        "crossing.hvplot()"
      ]
    },
    {
      "cell_type": "code",
      "execution_count": null,
      "id": "9bcb2886-4ebc-4ed3-a6a4-643f7cd6012a",
      "metadata": {
        "id": "9bcb2886-4ebc-4ed3-a6a4-643f7cd6012a"
      },
      "outputs": [],
      "source": [
        "crossing.port['a0'] = taper.port['a0'].copy\n",
        "crossing.port['b0'] = taper.port['b0'].copy\n",
        "crossing.port['a1'] = aligned_rotated_taper.port['a0'].copy\n",
        "crossing.port['b1'] = aligned_rotated_taper.port['b0'].copy\n",
        "crossing.hvplot()"
      ]
    },
    {
      "cell_type": "markdown",
      "id": "b2ec099c-8375-4d25-a947-7b1ed48fb4d7",
      "metadata": {
        "tags": [],
        "id": "b2ec099c-8375-4d25-a947-7b1ed48fb4d7"
      },
      "source": [
        "As you can see, we have succeeded in designing a crossing with the appropriate ports.\n",
        "\n",
        "\n",
        "## Polarization insensitive grating\n",
        "\n",
        "Let's try another related challenge: building a polarization insensitive grating coupler. This requires a cross like before with a much bigger taper, with a grating in the intersection box."
      ]
    },
    {
      "cell_type": "code",
      "execution_count": null,
      "id": "c2c42977-66e6-4b2d-9859-bc6ec34e47ff",
      "metadata": {
        "id": "c2c42977-66e6-4b2d-9859-bc6ec34e47ff"
      },
      "outputs": [],
      "source": [
        "taper = dp.cubic_taper(0.5, 9.5, 150, 70)\n",
        "crossing = dp.Cross(taper)\n",
        "crossing_plot = crossing.hvplot()\n",
        "crossing_plot"
      ]
    },
    {
      "cell_type": "markdown",
      "id": "bd85b0d0-416e-41a5-a1ae-d517cf66955f",
      "metadata": {
        "id": "bd85b0d0-416e-41a5-a1ae-d517cf66955f"
      },
      "source": [
        "Instead of manually calculating where the grating should go, let's use some functionality in `dphox` to place the grating in the appropriate location. Let's start by doing this for a box. We use the method `align` which aligns the centers of two patterns."
      ]
    },
    {
      "cell_type": "code",
      "execution_count": null,
      "id": "6d28d0c0-f86e-44e3-abc4-374703abdde2",
      "metadata": {
        "id": "6d28d0c0-f86e-44e3-abc4-374703abdde2"
      },
      "outputs": [],
      "source": [
        "box = dp.Box((10, 10))\n",
        "aligned_box = box.copy.align(crossing)\n",
        "\n",
        "crossing_plot * box.hvplot('blue', plot_ports=False) * aligned_box.hvplot('green', plot_ports=False)"
      ]
    },
    {
      "cell_type": "markdown",
      "id": "d3bc7509-3f5e-4846-98e5-6ea4c18c8d2c",
      "metadata": {
        "id": "d3bc7509-3f5e-4846-98e5-6ea4c18c8d2c"
      },
      "source": [
        "We've aligned the box to the center of the pattern but now we need to turn the box into a grating. Thankfully, there are methods for this already built into the `Box` class."
      ]
    },
    {
      "cell_type": "code",
      "execution_count": null,
      "id": "6c3c1af5-4077-448f-a036-0da250847d8a",
      "metadata": {
        "id": "6c3c1af5-4077-448f-a036-0da250847d8a"
      },
      "outputs": [],
      "source": [
        "grating = box.striped(stripe_w=0.3, include_boundary=False)\n",
        "\n",
        "grating.hvplot()"
      ]
    },
    {
      "cell_type": "code",
      "execution_count": null,
      "id": "4a5249c2-7ee9-4ace-830f-dc4fea62595f",
      "metadata": {
        "id": "4a5249c2-7ee9-4ace-830f-dc4fea62595f"
      },
      "outputs": [],
      "source": [
        "aligned_grating = grating.align(crossing)\n",
        "crossing_plot * aligned_grating.hvplot('green', plot_ports=False)"
      ]
    },
    {
      "cell_type": "markdown",
      "id": "18d43f8a-4366-4b8f-93ed-43280c78b440",
      "metadata": {
        "id": "18d43f8a-4366-4b8f-93ed-43280c78b440"
      },
      "source": [
        "Patterns in `dphox` support boolean operations such as subtraction and addition, which allows us to create our final grating."
      ]
    },
    {
      "cell_type": "code",
      "execution_count": null,
      "id": "bbf1fc29-81f0-4d69-a562-afd207950bf9",
      "metadata": {
        "id": "bbf1fc29-81f0-4d69-a562-afd207950bf9"
      },
      "outputs": [],
      "source": [
        "pol_insensitive_grating = crossing - aligned_grating\n",
        "pol_insensitive_grating.port = crossing.port\n",
        "pol_insensitive_grating.hvplot()"
      ]
    },
    {
      "cell_type": "markdown",
      "id": "fd82c2c9-1fb9-4be7-bdab-1e6679afa663",
      "metadata": {
        "id": "fd82c2c9-1fb9-4be7-bdab-1e6679afa663"
      },
      "source": [
        "But what if we want holes rather than pillars in the center for this grating? Just use an extra boolean operation!"
      ]
    },
    {
      "cell_type": "code",
      "execution_count": null,
      "id": "c0eabf5b-a574-4fd2-bfed-9211a1130c3c",
      "metadata": {
        "id": "c0eabf5b-a574-4fd2-bfed-9211a1130c3c"
      },
      "outputs": [],
      "source": [
        "pol_insensitive_grating = crossing - aligned_box + aligned_grating\n",
        "pol_insensitive_grating.port = crossing.port\n",
        "pol_insensitive_grating.hvplot()"
      ]
    },
    {
      "cell_type": "markdown",
      "id": "7e61fe91-0b27-40ef-acb1-50351cacdf60",
      "metadata": {
        "id": "7e61fe91-0b27-40ef-acb1-50351cacdf60"
      },
      "source": [
        "We can also look at this in 3D!"
      ]
    },
    {
      "cell_type": "code",
      "execution_count": null,
      "id": "4fcb5ec4-e772-4157-b7c2-f74ef58ba9fb",
      "metadata": {
        "id": "4fcb5ec4-e772-4157-b7c2-f74ef58ba9fb"
      },
      "outputs": [],
      "source": [
        "from trimesh.transformations import rotation_matrix\n",
        "\n",
        "scene = pol_insensitive_grating.trimesh()\n",
        "\n",
        "# apply some settings to the scene to make the default view more palatable\n",
        "scene.apply_transform(rotation_matrix(-np.pi / 4, (1, 0, 0)))\n",
        "scene.camera.fov = (10, 10)\n",
        "scene.show()"
      ]
    },
    {
      "cell_type": "markdown",
      "id": "7a36ff8f-9772-4dad-b8cc-2be17e9d62f0",
      "metadata": {
        "tags": [],
        "id": "7a36ff8f-9772-4dad-b8cc-2be17e9d62f0"
      },
      "source": [
        "## Photonic MZI mesh\n",
        "\n",
        "In `dphox`, we provide several prefabbed devices. Here, we demonstrate how to construct an mesh of active MZI devices using either MEMS-based or thermo-optic-based phase shifters. These photonic meshes are useful in quantum computing, machine learning, and optical cryptography applications.\n"
      ]
    },
    {
      "cell_type": "markdown",
      "id": "e48fcdfc-f0e1-4856-bff1-6b3fc955f2c8",
      "metadata": {
        "tags": [],
        "id": "e48fcdfc-f0e1-4856-bff1-6b3fc955f2c8"
      },
      "source": [
        "### Define phase shifters and couplers"
      ]
    },
    {
      "cell_type": "code",
      "execution_count": null,
      "id": "b649c5b3-0d9e-445a-ae6a-77e584c77abe",
      "metadata": {
        "id": "b649c5b3-0d9e-445a-ae6a-77e584c77abe"
      },
      "outputs": [],
      "source": [
        "ps = dp.ThermalPS(dp.straight(80).path(0.5), ps_w=4, via=dp.Via((2, 2), 0.1))\n",
        "dc = dp.DC(waveguide_w=0.5, interaction_l=30, bend_radius=10, interport_distance=50, gap_w=0.3)\n",
        "mzi = dp.MZI(dc, top_internal=[ps.copy], bottom_internal=[ps.copy], top_external=[ps.copy], bottom_external=[ps.copy])\n",
        "mesh = dp.LocalMesh(mzi, n=6, triangular=False)"
      ]
    },
    {
      "cell_type": "code",
      "execution_count": null,
      "id": "35d4f658-cd1d-4b7a-b9fd-5f67b06d5e56",
      "metadata": {
        "id": "35d4f658-cd1d-4b7a-b9fd-5f67b06d5e56"
      },
      "outputs": [],
      "source": [
        "mesh.hvplot()"
      ]
    },
    {
      "cell_type": "markdown",
      "id": "6b4ce519-fd58-4561-ad4e-c85c2f549405",
      "metadata": {
        "tags": [],
        "id": "6b4ce519-fd58-4561-ad4e-c85c2f549405"
      },
      "source": [
        "### Define optical interconnects and interposers\n",
        "\n",
        "We need to have a way to get light on the chip. One way to do this is to use a fiber array. Since the pitch of the interposer is not the same as the pit above (the `interport_distance` is given to be 50 $\\mu$m), we need an interposer from the standard fiber pitch of 127 $\\mu$m to 50 $\\mu$m. The interposer includes trombones that perform path length matching, which may be desirable in some applications of the mesh.\n",
        "\n",
        "The actual optical interconnect can be an edge coupler or a grating. Here in `dphox`, we provide a focusing grating prefab as below, which might work in SOI, though this is untested."
      ]
    },
    {
      "cell_type": "code",
      "execution_count": null,
      "id": "a8f56f88-f5bc-4a8a-a815-27963106bb4a",
      "metadata": {
        "id": "a8f56f88-f5bc-4a8a-a815-27963106bb4a"
      },
      "outputs": [],
      "source": [
        "grating = dp.route.FocusingGrating(\n",
        "    n_env=dp.AIR.n,\n",
        "    n_core=dp.SILICON.n,\n",
        "    min_period=40,\n",
        "    num_periods=30,\n",
        "    wavelength=1.55,\n",
        "    fiber_angle=82,\n",
        "    duty_cycle=0.5\n",
        ")\n",
        "interposer = dp.route.Interposer(\n",
        "    waveguide_w=0.5,\n",
        "    n=6,\n",
        "    init_pitch=50,\n",
        "    final_pitch=127,\n",
        "    self_coupling_extension=50\n",
        ").with_gratings(grating)"
      ]
    },
    {
      "cell_type": "markdown",
      "id": "f34d4ab0-2687-442d-8827-4ec4c81df077",
      "metadata": {
        "id": "f34d4ab0-2687-442d-8827-4ec4c81df077"
      },
      "source": [
        "Here, we place the interposer at the appropriate ports. The outputs are small but once we plot it, `holoviews` allows us to zoom using the scroll tool."
      ]
    },
    {
      "cell_type": "code",
      "execution_count": null,
      "id": "c64beb79-3a9a-4e5e-9f4c-544db891736c",
      "metadata": {
        "id": "c64beb79-3a9a-4e5e-9f4c-544db891736c"
      },
      "outputs": [],
      "source": [
        "mesh.clear(interposer)  # in case this cell is run more than once, this avoids duplicating the placement of the interposer.\n",
        "mesh.place(interposer, mesh.port['b0'], from_port=interposer.port['a0'])\n",
        "mesh.place(interposer, mesh.port['a5'], from_port=interposer.port['a0'])"
      ]
    },
    {
      "cell_type": "code",
      "execution_count": null,
      "id": "e0ec5649-31cb-463e-91ec-6256b423b720",
      "metadata": {
        "id": "e0ec5649-31cb-463e-91ec-6256b423b720"
      },
      "outputs": [],
      "source": [
        "mesh.hvplot()"
      ]
    },
    {
      "cell_type": "markdown",
      "id": "c17a6f39-4faf-4763-96d8-2cd1d7d9f3e8",
      "metadata": {
        "id": "c17a6f39-4faf-4763-96d8-2cd1d7d9f3e8"
      },
      "source": [
        "Let's take a look at one of our gratings up close using `trimesh`:"
      ]
    },
    {
      "cell_type": "code",
      "execution_count": null,
      "id": "a2878983-742f-45b1-9b24-45d461950af0",
      "metadata": {
        "id": "a2878983-742f-45b1-9b24-45d461950af0"
      },
      "outputs": [],
      "source": [
        "from trimesh.transformations import rotation_matrix, scale_matrix\n",
        "\n",
        "scene = grating.trimesh()\n",
        "\n",
        "# apply some settings to the scene to make the default view more palatable\n",
        "scene.apply_transform(np.diag((1, 1, 5, 1))) # make it easier to see the grating lines by scaling up the z-axis by 5x\n",
        "scene.apply_transform(rotation_matrix(-np.pi / 2.5, (1, 0, 0)))\n",
        "scene.show()"
      ]
    },
    {
      "cell_type": "markdown",
      "id": "067bee16-9d92-40d4-9e59-afd12d0e0cad",
      "metadata": {
        "id": "067bee16-9d92-40d4-9e59-afd12d0e0cad"
      },
      "source": [
        "Save the overall device to a GDS file."
      ]
    },
    {
      "cell_type": "code",
      "execution_count": null,
      "id": "08e9483b-fe79-4a78-b4d4-f5ef3218d4d9",
      "metadata": {
        "id": "08e9483b-fe79-4a78-b4d4-f5ef3218d4d9"
      },
      "outputs": [],
      "source": [
        "mesh.to_gds('mesh.gds')"
      ]
    },
    {
      "cell_type": "markdown",
      "id": "b0325954-0080-4b00-a9f9-934d4a5d5f7c",
      "metadata": {
        "tags": [],
        "id": "b0325954-0080-4b00-a9f9-934d4a5d5f7c"
      },
      "source": [
        "### Use another type of phase shifter\n",
        "\n",
        "We can also change the phase shifter to be a NEMS-based phase shifter using the code below:"
      ]
    },
    {
      "cell_type": "code",
      "execution_count": null,
      "id": "7ac09166-7048-4a51-aa56-0dba7a9eb420",
      "metadata": {
        "id": "7ac09166-7048-4a51-aa56-0dba7a9eb420"
      },
      "outputs": [],
      "source": [
        "from dphox.demo import lateral_nems_ps\n",
        "nems_ps = lateral_nems_ps()\n",
        "nems_mzi = dp.MZI(dc, top_internal=[nems_ps.copy], bottom_internal=[nems_ps.copy], top_external=[nems_ps.copy], bottom_external=[nems_ps.copy])\n",
        "nems_mesh = dp.LocalMesh(nems_mzi, 6, triangular=False)"
      ]
    },
    {
      "cell_type": "code",
      "execution_count": null,
      "id": "b1ccfad5-0a27-4f67-b639-218dc76d1e82",
      "metadata": {
        "id": "b1ccfad5-0a27-4f67-b639-218dc76d1e82"
      },
      "outputs": [],
      "source": [
        "scene = nems_ps.trimesh(exclude_layer=[dp.CommonLayer.CLEAROUT, dp.CommonLayer.ALUMINA])\n",
        "\n",
        "scene.apply_transform(rotation_matrix(-np.pi / 8, (1, 0, 0)))\n",
        "scene.camera.fov = (20, 20)\n",
        "scene.show()"
      ]
    },
    {
      "cell_type": "markdown",
      "id": "a6a06974-7828-4871-aa97-63e50ab7ff4c",
      "metadata": {
        "id": "a6a06974-7828-4871-aa97-63e50ab7ff4c"
      },
      "source": [
        "Here's another view!"
      ]
    },
    {
      "cell_type": "code",
      "execution_count": null,
      "id": "64173e03-461a-484b-9581-ffe50bd25b63",
      "metadata": {
        "id": "64173e03-461a-484b-9581-ffe50bd25b63"
      },
      "outputs": [],
      "source": [
        "scene = nems_ps.trimesh(exclude_layer=[dp.CommonLayer.CLEAROUT, dp.CommonLayer.ALUMINA])\n",
        "\n",
        "scene.apply_transform(rotation_matrix(-np.pi / 2, (1, 0, 0)) @ rotation_matrix(np.pi / 2, (0, 0, 1), point=(*nems_ps.port['b0'].xy, 0)))\n",
        "scene.camera.fov = (20, 20)\n",
        "scene.show()"
      ]
    },
    {
      "cell_type": "markdown",
      "id": "8399dec2-c119-4edb-927b-021e6804d9fa",
      "metadata": {
        "id": "8399dec2-c119-4edb-927b-021e6804d9fa"
      },
      "source": [
        "Once we are satisfied with a phase shifter design, we can save to a gds."
      ]
    },
    {
      "cell_type": "code",
      "execution_count": null,
      "id": "cef94f0c-81ce-440f-8d1c-c8b779e785eb",
      "metadata": {
        "id": "cef94f0c-81ce-440f-8d1c-c8b779e785eb"
      },
      "outputs": [],
      "source": [
        "nems_mesh.to_gds('nems_mesh.gds')"
      ]
    },
    {
      "cell_type": "markdown",
      "id": "c3368f85-7793-4f79-9f40-af7e25199df6",
      "metadata": {
        "id": "c3368f85-7793-4f79-9f40-af7e25199df6"
      },
      "source": [
        "We can also plot the mesh with the new phase shifter, but this takes much longer than a GDS export since we leverage cell references in the GDS for computational efficiency."
      ]
    },
    {
      "cell_type": "code",
      "execution_count": null,
      "id": "a32aa702-9b5f-4628-8670-253dfbc3aa3f",
      "metadata": {
        "id": "a32aa702-9b5f-4628-8670-253dfbc3aa3f"
      },
      "outputs": [],
      "source": [
        "nems_mesh.hvplot()"
      ]
    }
  ],
  "metadata": {
    "kernelspec": {
      "display_name": "Python 3",
      "language": "python",
      "name": "python3"
    },
    "language_info": {
      "codemirror_mode": {
        "name": "ipython",
        "version": 3
      },
      "file_extension": ".py",
      "mimetype": "text/x-python",
      "name": "python",
      "nbconvert_exporter": "python",
      "pygments_lexer": "ipython3",
      "version": "3.9.7"
    },
    "colab": {
      "name": "00_photonics.ipynb",
      "provenance": []
    }
  },
  "nbformat": 4,
  "nbformat_minor": 5
}